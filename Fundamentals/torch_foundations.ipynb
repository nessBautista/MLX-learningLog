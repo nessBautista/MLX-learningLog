{
 "cells": [
  {
   "cell_type": "markdown",
   "metadata": {},
   "source": [
    "# Import and get the version"
   ]
  },
  {
   "cell_type": "code",
   "execution_count": 2,
   "metadata": {},
   "outputs": [
    {
     "data": {
      "text/plain": [
       "'2.5.1'"
      ]
     },
     "execution_count": 2,
     "metadata": {},
     "output_type": "execute_result"
    }
   ],
   "source": [
    "import torch\n",
    "torch.__version__"
   ]
  },
  {
   "cell_type": "markdown",
   "metadata": {},
   "source": [
    "# Create an scalar\n"
   ]
  },
  {
   "cell_type": "code",
   "execution_count": 8,
   "metadata": {},
   "outputs": [
    {
     "name": "stdout",
     "output_type": "stream",
     "text": [
      "Scalar:\n",
      "7\n",
      "\n",
      "Scalar type:\n",
      "<class 'torch.Tensor'>\n",
      "\n",
      "Scalar dimension:\n",
      "0\n",
      "\n",
      "Scalar item:\n",
      "7\n",
      "\n"
     ]
    }
   ],
   "source": [
    "def print_scalar_info(scalar):\n",
    "    \"\"\"\n",
    "    Print detailed information about the given scalar tensor.\n",
    "\n",
    "    Parameters:\n",
    "      scalar (torch.Tensor): A tensor containing a single scalar value.\n",
    "    \"\"\"\n",
    "    print(f\"Scalar:\\n{scalar}\\n\")\n",
    "    print(f\"Scalar type:\\n{type(scalar)}\\n\")\n",
    "    print(f\"Scalar dimension:\\n{scalar.ndim}\\n\")\n",
    "    \n",
    "    # Get the Python number within the tensor (only works with one-element tensors)\n",
    "    item = scalar.item()\n",
    "    print(f\"Scalar item:\\n{item}\\n\")\n",
    "\n",
    "scalar = torch.tensor(7)\n",
    "print_scalar_info(scalar)\n",
    "\n",
    "\n",
    "\n",
    "\n"
   ]
  },
  {
   "cell_type": "markdown",
   "metadata": {},
   "source": [
    "# Create a vector, matrix and tensor"
   ]
  },
  {
   "cell_type": "code",
   "execution_count": 18,
   "metadata": {},
   "outputs": [
    {
     "name": "stdout",
     "output_type": "stream",
     "text": [
      "Tensor:\n",
      "tensor([7, 7])\n",
      "\n",
      "Tensor type:\n",
      "<class 'torch.Tensor'>\n",
      "\n",
      "Tensor dimension:\n",
      "1\n",
      "\n",
      "Tensor shape:\n",
      "torch.Size([2])\n",
      "\n"
     ]
    }
   ],
   "source": [
    "def print_tensor_info(tensor):\n",
    "    \"\"\"\n",
    "    Print detailed information about the given tensor of at least 2 elements.\n",
    "\n",
    "    Parameters:\n",
    "      Tensor (torch.Tensor): A tensor containing a single scalar value.\n",
    "    \"\"\"\n",
    "    print(f\"Tensor:\\n{tensor}\\n\")\n",
    "    print(f\"Tensor type:\\n{type(tensor)}\\n\")\n",
    "    print(f\"Tensor dimension:\\n{tensor.ndim}\\n\")\n",
    "    print(f\"Tensor shape:\\n{tensor.shape}\\n\")\n",
    "    \n",
    "\n",
    "vector = torch.tensor([7, 7])\n",
    "print_tensor_info(vector)"
   ]
  },
  {
   "cell_type": "code",
   "execution_count": 19,
   "metadata": {},
   "outputs": [
    {
     "name": "stdout",
     "output_type": "stream",
     "text": [
      "Tensor:\n",
      "tensor([[ 7,  8],\n",
      "        [ 9, 10]])\n",
      "\n",
      "Tensor type:\n",
      "<class 'torch.Tensor'>\n",
      "\n",
      "Tensor dimension:\n",
      "2\n",
      "\n",
      "Tensor shape:\n",
      "torch.Size([2, 2])\n",
      "\n"
     ]
    }
   ],
   "source": [
    "matrix = torch.tensor([[7, 8],[9, 10]])\n",
    "print_tensor_info(matrix)"
   ]
  },
  {
   "cell_type": "code",
   "execution_count": 20,
   "metadata": {},
   "outputs": [
    {
     "name": "stdout",
     "output_type": "stream",
     "text": [
      "Tensor:\n",
      "tensor([[[1, 2],\n",
      "         [3, 4]]])\n",
      "\n",
      "Tensor type:\n",
      "<class 'torch.Tensor'>\n",
      "\n",
      "Tensor dimension:\n",
      "3\n",
      "\n",
      "Tensor shape:\n",
      "torch.Size([1, 2, 2])\n",
      "\n"
     ]
    }
   ],
   "source": [
    "tensor_3d = torch.tensor([[[1, 2], [3, 4]]])\n",
    "print_tensor_info(tensor_3d)"
   ]
  },
  {
   "cell_type": "markdown",
   "metadata": {},
   "source": [
    "# Create a random tensor"
   ]
  },
  {
   "cell_type": "code",
   "execution_count": 21,
   "metadata": {},
   "outputs": [
    {
     "data": {
      "text/plain": [
       "tensor([[0.0908, 0.5245, 0.1840, 0.2426],\n",
       "        [0.8294, 0.7028, 0.4865, 0.5038],\n",
       "        [0.4769, 0.7804, 0.0543, 0.4440]])"
      ]
     },
     "execution_count": 21,
     "metadata": {},
     "output_type": "execute_result"
    }
   ],
   "source": [
    "random_tensor = torch.rand(size=(3, 4))\n",
    "random_tensor\n"
   ]
  }
 ],
 "metadata": {
  "kernelspec": {
   "display_name": "Python 3",
   "language": "python",
   "name": "python3"
  },
  "language_info": {
   "codemirror_mode": {
    "name": "ipython",
    "version": 3
   },
   "file_extension": ".py",
   "mimetype": "text/x-python",
   "name": "python",
   "nbconvert_exporter": "python",
   "pygments_lexer": "ipython3",
   "version": "3.11.8"
  }
 },
 "nbformat": 4,
 "nbformat_minor": 2
}
