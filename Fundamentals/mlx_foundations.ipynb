{
 "cells": [
  {
   "cell_type": "markdown",
   "metadata": {},
   "source": [
    "# Import and get the version"
   ]
  },
  {
   "cell_type": "code",
   "execution_count": 50,
   "metadata": {},
   "outputs": [],
   "source": [
    "import mlx\n",
    "import mlx.core as mx\n"
   ]
  },
  {
   "cell_type": "markdown",
   "metadata": {},
   "source": [
    "# Create an scalar"
   ]
  },
  {
   "cell_type": "code",
   "execution_count": 51,
   "metadata": {},
   "outputs": [
    {
     "name": "stdout",
     "output_type": "stream",
     "text": [
      "Scalar:\n",
      "7\n",
      "\n",
      "Scalar type:\n",
      "<class 'mlx.core.array'>\n",
      "\n",
      "Scalar dimension:\n",
      "0\n",
      "\n",
      "Scalar item:\n",
      "7\n",
      "\n"
     ]
    }
   ],
   "source": [
    "def print_scalar_info(scalar):\n",
    "    \"\"\"\n",
    "    Print detailed information about the given scalar tensor.\n",
    "\n",
    "    Parameters:\n",
    "      scalar (mlx.core.array): A tensor containing a single scalar value.\n",
    "    \"\"\"\n",
    "    print(f\"Scalar:\\n{scalar}\\n\")\n",
    "    print(f\"Scalar type:\\n{type(scalar)}\\n\")\n",
    "    print(f\"Scalar dimension:\\n{scalar.ndim}\\n\")\n",
    "    \n",
    "    # Get the Python number within the tensor (only works with one-element tensors)\n",
    "    item = scalar.item()\n",
    "    print(f\"Scalar item:\\n{item}\\n\")\n",
    "\n",
    "\n",
    "scalar = mx.array(7)\n",
    "print_scalar_info(scalar)\n"
   ]
  },
  {
   "cell_type": "markdown",
   "metadata": {},
   "source": [
    "# Create a vector, matrix and tensor"
   ]
  },
  {
   "cell_type": "code",
   "execution_count": 52,
   "metadata": {},
   "outputs": [
    {
     "name": "stdout",
     "output_type": "stream",
     "text": [
      "Tensor:\n",
      "array([7, 7], dtype=int32)\n",
      "\n",
      "Tensor type:\n",
      "<class 'mlx.core.array'>\n",
      "\n",
      "Tensor dimension:\n",
      "1\n",
      "\n",
      "Tensor shape:\n",
      "(2,)\n",
      "\n"
     ]
    }
   ],
   "source": [
    "def print_tensor_info(tensor):\n",
    "    \"\"\"\n",
    "    Print detailed information about the given tensor of at least 2 elements.\n",
    "\n",
    "    Parameters:\n",
    "      Tensor (mlx.core.array): A tensor containing a single scalar value.\n",
    "    \"\"\"\n",
    "    print(f\"Tensor:\\n{tensor}\\n\")\n",
    "    print(f\"Tensor type:\\n{type(tensor)}\\n\")\n",
    "    print(f\"Tensor dimension:\\n{tensor.ndim}\\n\")\n",
    "    print(f\"Tensor shape:\\n{tensor.shape}\\n\")\n",
    "\n",
    "vector = mx.array([7, 7])  \n",
    "print_tensor_info(vector)\n",
    "    "
   ]
  },
  {
   "cell_type": "code",
   "execution_count": 53,
   "metadata": {},
   "outputs": [
    {
     "name": "stdout",
     "output_type": "stream",
     "text": [
      "Tensor:\n",
      "array([[7, 8],\n",
      "       [9, 10]], dtype=int32)\n",
      "\n",
      "Tensor type:\n",
      "<class 'mlx.core.array'>\n",
      "\n",
      "Tensor dimension:\n",
      "2\n",
      "\n",
      "Tensor shape:\n",
      "(2, 2)\n",
      "\n"
     ]
    }
   ],
   "source": [
    "matrix = mx.array([[7, 8],[9, 10]])\n",
    "print_tensor_info(matrix)"
   ]
  },
  {
   "cell_type": "code",
   "execution_count": 54,
   "metadata": {},
   "outputs": [
    {
     "name": "stdout",
     "output_type": "stream",
     "text": [
      "Tensor:\n",
      "array([[[1, 2],\n",
      "        [3, 4]]], dtype=int32)\n",
      "\n",
      "Tensor type:\n",
      "<class 'mlx.core.array'>\n",
      "\n",
      "Tensor dimension:\n",
      "3\n",
      "\n",
      "Tensor shape:\n",
      "(1, 2, 2)\n",
      "\n"
     ]
    }
   ],
   "source": [
    "tensor_3d = mx.array([[[1, 2], [3, 4]]])  \n",
    "print_tensor_info(tensor_3d)"
   ]
  },
  {
   "cell_type": "markdown",
   "metadata": {},
   "source": [
    "# Create a random tensor\n",
    "MLX's random module provides flexible pseudo-random number generation (PRNG) with Apple Silicon optimization, balancing convenience and reproducibility through two key approaches\n",
    "\n",
    "### Implicit Global State (Default):"
   ]
  },
  {
   "cell_type": "code",
   "execution_count": 61,
   "metadata": {},
   "outputs": [
    {
     "name": "stdout",
     "output_type": "stream",
     "text": [
      "array(0.451346, dtype=float32)\n",
      "array(0.558482, dtype=float32)\n",
      "array(0.258283, dtype=float32)\n"
     ]
    }
   ],
   "source": [
    "import mlx.core.random as mxr\n",
    "\n",
    "# Generates 3 unique values using global PRNG state\n",
    "for _ in range(3):\n",
    "    print(mxr.uniform())"
   ]
  },
  {
   "cell_type": "markdown",
   "metadata": {},
   "source": [
    "### explicit key control "
   ]
  },
  {
   "cell_type": "code",
   "execution_count": 59,
   "metadata": {},
   "outputs": [
    {
     "name": "stdout",
     "output_type": "stream",
     "text": [
      "array(0.418457, dtype=float32)\n",
      "array(0.418457, dtype=float32)\n",
      "array(0.418457, dtype=float32)\n"
     ]
    }
   ],
   "source": [
    "key = mxr.key(0)  # Seed initialization\n",
    "\n",
    "# Generates identical values using fixed key\n",
    "for _ in range(3):\n",
    "    print(mxr.uniform(key=key))  # Output: 0.123, 0.123, 0.123"
   ]
  },
  {
   "cell_type": "code",
   "execution_count": 64,
   "metadata": {},
   "outputs": [],
   "source": [
    "def ml_rand(size, seed=None):\n",
    "    \"\"\"\n",
    "    Generate an mlx.core.array filled with uniform random values.\n",
    "    \n",
    "    Parameters:\n",
    "      size (tuple): The desired shape of the output array, e.g., (3, 4)\n",
    "      seed (int, optional): Seed used to initialize the PRNG key for reproducibility.\n",
    "                            If provided, each element is generated using a key based on (seed + index).\n",
    "    \n",
    "    Returns:\n",
    "      An mlx.core.array with the specified shape filled with uniform random numbers.\n",
    "    \"\"\"\n",
    "    import mlx.core.random as mxr\n",
    "    import mlx.core as mx  # Assumes that mxa.array(...) creates an mlx array from a nested list\n",
    "\n",
    "    # Compute the total number of elements.\n",
    "    total_elements = 1\n",
    "    for dim in size:\n",
    "        total_elements *= dim\n",
    "\n",
    "    # Generate flat list of random values.\n",
    "    values = []\n",
    "    for i in range(total_elements):\n",
    "        if seed is not None:\n",
    "            # Create a key based on the supplied seed plus an index offset.\n",
    "            current_key = mxr.key(seed + i)\n",
    "            num = mxr.uniform(key=current_key)\n",
    "        else:\n",
    "            # Use global PRNG state to generate a unique random value.\n",
    "            num = mxr.uniform()\n",
    "        values.append(num)\n",
    "    \n",
    "    # Helper: recursively reshape the flat list to the desired dimensions.\n",
    "    def reshape(flat_list, shape):\n",
    "        if len(shape) == 1:\n",
    "            return flat_list[:shape[0]]\n",
    "        else:\n",
    "            sub_size = 1\n",
    "            for d in shape[1:]:\n",
    "                sub_size *= d\n",
    "            return [reshape(flat_list[i * sub_size:(i + 1) * sub_size], shape[1:]) for i in range(shape[0])]\n",
    "    \n",
    "    nested_values = reshape(values, size)\n",
    "    return mx.array(nested_values)"
   ]
  },
  {
   "cell_type": "code",
   "execution_count": 67,
   "metadata": {},
   "outputs": [
    {
     "name": "stdout",
     "output_type": "stream",
     "text": [
      "Random array (global PRNG):\n",
      "array([[0.0685559, 0.749943, 0.808282, 0.383173],\n",
      "       [0.108506, 0.28853, 0.499346, 0.710357],\n",
      "       [0.835264, 0.810151, 0.112555, 0.554991]], dtype=float32)\n",
      "\n",
      "Random array (seed=0):\n",
      "array([[0.418457, 0.11815, 0.424022, 0.865393],\n",
      "       [0.16215, 0.634341, 0.516013, 0.844107],\n",
      "       [0.91191, 0.657114, 0.0893868, 0.452468]], dtype=float32)\n",
      "Tensor:\n",
      "array([[0.0685559, 0.749943, 0.808282, 0.383173],\n",
      "       [0.108506, 0.28853, 0.499346, 0.710357],\n",
      "       [0.835264, 0.810151, 0.112555, 0.554991]], dtype=float32)\n",
      "\n",
      "Tensor type:\n",
      "<class 'mlx.core.array'>\n",
      "\n",
      "Tensor dimension:\n",
      "2\n",
      "\n",
      "Tensor shape:\n",
      "(3, 4)\n",
      "\n",
      "Tensor:\n",
      "array([[0.418457, 0.11815, 0.424022, 0.865393],\n",
      "       [0.16215, 0.634341, 0.516013, 0.844107],\n",
      "       [0.91191, 0.657114, 0.0893868, 0.452468]], dtype=float32)\n",
      "\n",
      "Tensor type:\n",
      "<class 'mlx.core.array'>\n",
      "\n",
      "Tensor dimension:\n",
      "2\n",
      "\n",
      "Tensor shape:\n",
      "(3, 4)\n",
      "\n"
     ]
    }
   ],
   "source": [
    "# Without a seed, the random values will be generated using the global PRNG state.\n",
    "arr1 = ml_rand((3, 4))\n",
    "print(\"Random array (global PRNG):\")\n",
    "print(arr1)\n",
    "\n",
    "# With a seed, the values are reproducible.\n",
    "arr2 = ml_rand((3, 4), seed=0)\n",
    "print(\"\\nRandom array (seed=0):\")\n",
    "print(arr2)\n",
    "\n",
    "print_tensor_info(arr1)\n",
    "print_tensor_info(arr2)"
   ]
  },
  {
   "cell_type": "markdown",
   "metadata": {},
   "source": [
    "# Device"
   ]
  },
  {
   "cell_type": "code",
   "execution_count": 32,
   "metadata": {},
   "outputs": [
    {
     "data": {
      "text/plain": [
       "Device(gpu, 0)"
      ]
     },
     "execution_count": 32,
     "metadata": {},
     "output_type": "execute_result"
    }
   ],
   "source": [
    "# Get the default device.\n",
    "mx.default_device()"
   ]
  }
 ],
 "metadata": {
  "language_info": {
   "name": "python"
  }
 },
 "nbformat": 4,
 "nbformat_minor": 2
}
